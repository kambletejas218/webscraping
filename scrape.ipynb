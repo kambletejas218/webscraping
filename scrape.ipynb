{
 "cells": [
  {
   "cell_type": "code",
   "execution_count": 26,
   "metadata": {},
   "outputs": [
    {
     "name": "stdout",
     "output_type": "stream",
     "text": [
      "Processing file: page_1.html\n",
      "Found 10 companies in page_1.html\n",
      "Processing file: page_2.html\n",
      "Found 10 companies in page_2.html\n",
      "Processing file: page_3.html\n",
      "Found 10 companies in page_3.html\n",
      "Processing file: page_4.html\n",
      "Found 10 companies in page_4.html\n",
      "Processing file: page_5.html\n",
      "Found 10 companies in page_5.html\n",
      "Processing file: page_6.html\n",
      "Found 10 companies in page_6.html\n",
      "Processing file: page_7.html\n",
      "Found 10 companies in page_7.html\n",
      "Processing file: page_8.html\n",
      "Found 10 companies in page_8.html\n",
      "Processing file: page_9.html\n",
      "Found 10 companies in page_9.html\n",
      "Processing file: page_10.html\n",
      "Found 10 companies in page_10.html\n",
      "Total records collected: 100\n",
      "CSV file saved successfully at: Company_details.csv\n"
     ]
    }
   ],
   "source": [
    "import os\n",
    "import pandas as pd\n",
    "from bs4 import BeautifulSoup\n",
    "\n",
    "html_files = [\n",
    "    \"page_1.html\",\n",
    "    \"page_2.html\",\n",
    "    \"page_3.html\",\n",
    "    \"page_4.html\",\n",
    "    \"page_5.html\",\n",
    "    \"page_6.html\",\n",
    "    \"page_7.html\",\n",
    "    \"page_8.html\",\n",
    "    \"page_9.html\",\n",
    "    \"page_10.html\",\n",
    "]\n",
    "\n",
    "data = []\n",
    "\n",
    "\n",
    "for file_path in html_files:\n",
    "    if os.path.exists(file_path): \n",
    "        print(f\"Processing file: {file_path}\")  \n",
    "        with open(file_path, \"r\", encoding=\"utf-8\") as file:\n",
    "            soup = BeautifulSoup(file, \"html.parser\")\n",
    "\n",
    "           \n",
    "            companies = soup.find_all(\"a\", class_='Company') \n",
    "\n",
    "            print(f\"Found {len(companies)} companies in {file_path}\") \n",
    "            \n",
    "            for company in companies:\n",
    "                name = company.get_text(strip=True) \n",
    "                link = company[\"href\"] if company.has_attr(\"href\") else \"No link found\"\n",
    "                data.append([name, link]) \n",
    "    else:\n",
    "        print(f\"File not found: {file_path}\")\n",
    "\n",
    "print(f\"Total records collected: {len(data)}\")  \n",
    "\n",
    "\n",
    "df = pd.DataFrame(data, columns=[\"Company Name\", \"LinkedIn Profile\"])\n",
    "\n",
    "\n",
    "csv_path = \"Company_details.csv\"\n",
    "if os.path.exists(csv_path):\n",
    "    existing_df = pd.read_csv(csv_path)\n",
    "    \n",
    "    df = pd.concat([existing_df, df], ignore_index=True)\n",
    "\n",
    "\n",
    "df.to_csv(csv_path, index=False)\n",
    "\n",
    "print(f\"CSV file saved successfully at: {csv_path}\")\n"
   ]
  },
  {
   "cell_type": "code",
   "execution_count": null,
   "metadata": {},
   "outputs": [],
   "source": []
  },
  {
   "cell_type": "code",
   "execution_count": null,
   "metadata": {},
   "outputs": [],
   "source": []
  }
 ],
 "metadata": {
  "kernelspec": {
   "display_name": "base",
   "language": "python",
   "name": "python3"
  },
  "language_info": {
   "codemirror_mode": {
    "name": "ipython",
    "version": 3
   },
   "file_extension": ".py",
   "mimetype": "text/x-python",
   "name": "python",
   "nbconvert_exporter": "python",
   "pygments_lexer": "ipython3",
   "version": "3.12.4"
  }
 },
 "nbformat": 4,
 "nbformat_minor": 2
}
